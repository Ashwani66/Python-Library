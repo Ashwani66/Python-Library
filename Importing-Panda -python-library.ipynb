import pandas as pd
csv_path="https://ibm.box.com/shared/static/keo2qz0bvh4iu6gf5qjq4vdrkt67bvvb.csv"
df=pd.read_csv(csv_path)
df.head()
df.tail()
x=df[['Length']]
x

Output: 	Length
0 	0:42:19
1 	0:42:11
2 	0:42:49
3 	0:57:44
4 	0:46:33
5 	0:43:08
6 	1:15:54
7 	0:40:01
